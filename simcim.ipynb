{
 "cells": [
  {
   "cell_type": "code",
   "execution_count": 13,
   "metadata": {},
   "outputs": [
    {
     "name": "stdout",
     "output_type": "stream",
     "text": [
      "Collecting qctl==0.0.2\n",
      "  Using cached https://cloudos-staging.qboard.tech/qctl-0.0.2-py3-none-any.whl (36 kB)\n",
      "Requirement already satisfied: PyYAML in c:\\users\\givem\\appdata\\local\\packages\\pythonsoftwarefoundation.python.3.11_qbz5n2kfra8p0\\localcache\\local-packages\\python311\\site-packages (from qctl==0.0.2) (6.0.1)\n",
      "Requirement already satisfied: click in c:\\users\\givem\\appdata\\local\\packages\\pythonsoftwarefoundation.python.3.11_qbz5n2kfra8p0\\localcache\\local-packages\\python311\\site-packages (from qctl==0.0.2) (8.1.7)\n",
      "Requirement already satisfied: pdoc3 in c:\\users\\givem\\appdata\\local\\packages\\pythonsoftwarefoundation.python.3.11_qbz5n2kfra8p0\\localcache\\local-packages\\python311\\site-packages (from qctl==0.0.2) (0.10.0)\n",
      "Requirement already satisfied: pytest in c:\\users\\givem\\appdata\\local\\packages\\pythonsoftwarefoundation.python.3.11_qbz5n2kfra8p0\\localcache\\local-packages\\python311\\site-packages (from qctl==0.0.2) (8.1.1)\n",
      "Requirement already satisfied: pytest-order in c:\\users\\givem\\appdata\\local\\packages\\pythonsoftwarefoundation.python.3.11_qbz5n2kfra8p0\\localcache\\local-packages\\python311\\site-packages (from qctl==0.0.2) (1.2.1)\n",
      "Requirement already satisfied: python-dateutil in c:\\users\\givem\\appdata\\local\\packages\\pythonsoftwarefoundation.python.3.11_qbz5n2kfra8p0\\localcache\\local-packages\\python311\\site-packages (from qctl==0.0.2) (2.8.2)\n",
      "Requirement already satisfied: python-docx in c:\\users\\givem\\appdata\\local\\packages\\pythonsoftwarefoundation.python.3.11_qbz5n2kfra8p0\\localcache\\local-packages\\python311\\site-packages (from qctl==0.0.2) (1.1.0)\n",
      "Requirement already satisfied: python-magic in c:\\users\\givem\\appdata\\local\\packages\\pythonsoftwarefoundation.python.3.11_qbz5n2kfra8p0\\localcache\\local-packages\\python311\\site-packages (from qctl==0.0.2) (0.4.27)\n",
      "Requirement already satisfied: requests in c:\\users\\givem\\appdata\\local\\packages\\pythonsoftwarefoundation.python.3.11_qbz5n2kfra8p0\\localcache\\local-packages\\python311\\site-packages (from qctl==0.0.2) (2.31.0)\n",
      "Requirement already satisfied: termcolor in c:\\users\\givem\\appdata\\local\\packages\\pythonsoftwarefoundation.python.3.11_qbz5n2kfra8p0\\localcache\\local-packages\\python311\\site-packages (from qctl==0.0.2) (2.4.0)\n",
      "Requirement already satisfied: waiting in c:\\users\\givem\\appdata\\local\\packages\\pythonsoftwarefoundation.python.3.11_qbz5n2kfra8p0\\localcache\\local-packages\\python311\\site-packages (from qctl==0.0.2) (1.4.1)\n",
      "Requirement already satisfied: wheel in c:\\users\\givem\\appdata\\local\\packages\\pythonsoftwarefoundation.python.3.11_qbz5n2kfra8p0\\localcache\\local-packages\\python311\\site-packages (from qctl==0.0.2) (0.43.0)\n",
      "Requirement already satisfied: colorama in c:\\users\\givem\\appdata\\local\\packages\\pythonsoftwarefoundation.python.3.11_qbz5n2kfra8p0\\localcache\\local-packages\\python311\\site-packages (from click->qctl==0.0.2) (0.4.6)\n",
      "Requirement already satisfied: mako in c:\\users\\givem\\appdata\\local\\packages\\pythonsoftwarefoundation.python.3.11_qbz5n2kfra8p0\\localcache\\local-packages\\python311\\site-packages (from pdoc3->qctl==0.0.2) (1.3.3)\n",
      "Requirement already satisfied: markdown>=3.0 in c:\\users\\givem\\appdata\\local\\packages\\pythonsoftwarefoundation.python.3.11_qbz5n2kfra8p0\\localcache\\local-packages\\python311\\site-packages (from pdoc3->qctl==0.0.2) (3.5.2)\n",
      "Requirement already satisfied: iniconfig in c:\\users\\givem\\appdata\\local\\packages\\pythonsoftwarefoundation.python.3.11_qbz5n2kfra8p0\\localcache\\local-packages\\python311\\site-packages (from pytest->qctl==0.0.2) (2.0.0)\n",
      "Requirement already satisfied: packaging in c:\\users\\givem\\appdata\\local\\packages\\pythonsoftwarefoundation.python.3.11_qbz5n2kfra8p0\\localcache\\local-packages\\python311\\site-packages (from pytest->qctl==0.0.2) (23.2)\n",
      "Requirement already satisfied: pluggy<2.0,>=1.4 in c:\\users\\givem\\appdata\\local\\packages\\pythonsoftwarefoundation.python.3.11_qbz5n2kfra8p0\\localcache\\local-packages\\python311\\site-packages (from pytest->qctl==0.0.2) (1.5.0)\n",
      "Requirement already satisfied: six>=1.5 in c:\\users\\givem\\appdata\\local\\packages\\pythonsoftwarefoundation.python.3.11_qbz5n2kfra8p0\\localcache\\local-packages\\python311\\site-packages (from python-dateutil->qctl==0.0.2) (1.16.0)\n",
      "Requirement already satisfied: lxml>=3.1.0 in c:\\users\\givem\\appdata\\local\\packages\\pythonsoftwarefoundation.python.3.11_qbz5n2kfra8p0\\localcache\\local-packages\\python311\\site-packages (from python-docx->qctl==0.0.2) (5.2.1)\n",
      "Requirement already satisfied: typing-extensions in c:\\users\\givem\\appdata\\local\\packages\\pythonsoftwarefoundation.python.3.11_qbz5n2kfra8p0\\localcache\\local-packages\\python311\\site-packages (from python-docx->qctl==0.0.2) (4.9.0)\n",
      "Requirement already satisfied: charset-normalizer<4,>=2 in c:\\users\\givem\\appdata\\local\\packages\\pythonsoftwarefoundation.python.3.11_qbz5n2kfra8p0\\localcache\\local-packages\\python311\\site-packages (from requests->qctl==0.0.2) (3.3.2)\n",
      "Requirement already satisfied: idna<4,>=2.5 in c:\\users\\givem\\appdata\\local\\packages\\pythonsoftwarefoundation.python.3.11_qbz5n2kfra8p0\\localcache\\local-packages\\python311\\site-packages (from requests->qctl==0.0.2) (3.6)\n",
      "Requirement already satisfied: urllib3<3,>=1.21.1 in c:\\users\\givem\\appdata\\local\\packages\\pythonsoftwarefoundation.python.3.11_qbz5n2kfra8p0\\localcache\\local-packages\\python311\\site-packages (from requests->qctl==0.0.2) (2.2.0)\n",
      "Requirement already satisfied: certifi>=2017.4.17 in c:\\users\\givem\\appdata\\local\\packages\\pythonsoftwarefoundation.python.3.11_qbz5n2kfra8p0\\localcache\\local-packages\\python311\\site-packages (from requests->qctl==0.0.2) (2024.2.2)\n",
      "Requirement already satisfied: MarkupSafe>=0.9.2 in c:\\users\\givem\\appdata\\local\\packages\\pythonsoftwarefoundation.python.3.11_qbz5n2kfra8p0\\localcache\\local-packages\\python311\\site-packages (from mako->pdoc3->qctl==0.0.2) (2.1.5)\n"
     ]
    }
   ],
   "source": [
    "!pip install https://cloudos-staging.qboard.tech/qctl-0.0.2-py3-none-any.whl"
   ]
  },
  {
   "cell_type": "code",
   "execution_count": 3,
   "metadata": {},
   "outputs": [
    {
     "name": "stdout",
     "output_type": "stream",
     "text": [
      "Authorization token saved successfully.\n"
     ]
    }
   ],
   "source": [
    "!qctl system login --username yu.va.ivanov --password ies0eeRe3die"
   ]
  },
  {
   "cell_type": "code",
   "execution_count": 4,
   "metadata": {},
   "outputs": [],
   "source": [
    "!qctl system health"
   ]
  },
  {
   "cell_type": "code",
   "execution_count": 18,
   "metadata": {},
   "outputs": [],
   "source": [
    "import os\n",
    "import numpy as np\n",
    "from qctl.core.quantor_client import QuantorClient\n",
    "from cim_lib import parser"
   ]
  },
  {
   "cell_type": "code",
   "execution_count": 4,
   "metadata": {},
   "outputs": [],
   "source": [
    "client = QuantorClient(\"https://cloudos-staging.qboard.tech\")"
   ]
  },
  {
   "cell_type": "code",
   "execution_count": 5,
   "metadata": {},
   "outputs": [],
   "source": [
    "client.authenticate(\"yu.va.ivanov\", \"ies0eeRe3die\")\n",
    "workspace = client.create_workspace(name=\"My testing workspace\")"
   ]
  },
  {
   "cell_type": "code",
   "execution_count": 30,
   "metadata": {},
   "outputs": [],
   "source": [
    "A = J.tolist()"
   ]
  },
  {
   "cell_type": "code",
   "execution_count": 32,
   "metadata": {},
   "outputs": [],
   "source": [
    "with open(\"fail.txt\", \"w\") as f:\n",
    "    f.write('\\n'.join([''.join(map(str, line)) for line in A]))\n"
   ]
  },
  {
   "cell_type": "code",
   "execution_count": 34,
   "metadata": {},
   "outputs": [],
   "source": [
    "A = np.random.random([50,50])"
   ]
  },
  {
   "cell_type": "code",
   "execution_count": 36,
   "metadata": {},
   "outputs": [],
   "source": [
    "np.save(\"er\", A)"
   ]
  },
  {
   "cell_type": "code",
   "execution_count": null,
   "metadata": {},
   "outputs": [],
   "source": []
  }
 ],
 "metadata": {
  "kernelspec": {
   "display_name": "Python 3",
   "language": "python",
   "name": "python3"
  },
  "language_info": {
   "codemirror_mode": {
    "name": "ipython",
    "version": 3
   },
   "file_extension": ".py",
   "mimetype": "text/x-python",
   "name": "python",
   "nbconvert_exporter": "python",
   "pygments_lexer": "ipython3",
   "version": "3.11.9"
  }
 },
 "nbformat": 4,
 "nbformat_minor": 2
}
