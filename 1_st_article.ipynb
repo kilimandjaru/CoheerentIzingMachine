{
 "cells": [
  {
   "cell_type": "code",
   "execution_count": 1,
   "metadata": {},
   "outputs": [],
   "source": [
    "import torch as tr\n",
    "import numpy as np\n",
    "import matplotlib.pylab as plt\n",
    "import sympy as sp\n",
    "from scipy.integrate import odeint"
   ]
  },
  {
   "cell_type": "code",
   "execution_count": 2,
   "metadata": {},
   "outputs": [],
   "source": [
    "def F(s, t):\n",
    "    G_x = 1\n",
    "    G_y = 1\n",
    "    a_x = 1\n",
    "    a_y = 1\n",
    "    N_t = 1\n",
    "    t_px =1\n",
    "    t_py = 1\n",
    "    bsp_x =1 \n",
    "    bsp_y = 1\n",
    "    e =1.6 * 10**(-9)\n",
    "    V = 2\n",
    "    I = 2\n",
    "    t_c = 2\n",
    "    dPxdt = (G_x* a_x * (s[2] - N_t)- 1/t_px) * s[0] + bsp_x * s[2]\n",
    "    dPydt = (G_y* a_y * (s[2] - N_t)- 1/t_py) * s[1] + bsp_y * s[2]\n",
    "    dNdt = I/(e*V) - s[2]/t_c - a_x*(s[2] - N_t)* s[0] - a_y*(s[2] - N_t)* s[1]\n",
    "    return [dPxdt, dPydt, dNdt]"
   ]
  },
  {
   "cell_type": "code",
   "execution_count": 4,
   "metadata": {},
   "outputs": [],
   "source": [
    "def F_od(s, t):\n",
    "    g = 10\n",
    "    g_0 = 10**(-2)\n",
    "    g_x = 10\n",
    "    g_y = 10\n",
    "    ro_x = 10**(-3)\n",
    "    ro_y = 10**(-3)\n",
    "    j_sw = 0.5\n",
    "    j = j_sw\n",
    "    b_x =10 ** (-8)\n",
    "    b_y = 10 ** (-8)\n",
    "    \n",
    "    dpxdt = s[0]/ro_x * (g_x * s[2] - 1) + b_x * (1 + s[2])\n",
    "    dpydt = s[1]/ro_y * (g_y * s[2] - 1) + b_y * (1 + s[2])\n",
    "    dndt = j - s[2] - s[2]*(s[0] + s[1])\n",
    "\n",
    "    return [dpxdt, dpydt, dndt]"
   ]
  },
  {
   "cell_type": "code",
   "execution_count": 8,
   "metadata": {},
   "outputs": [],
   "source": [
    "t = np.linspace(0.0, 100.0, 1000000)"
   ]
  },
  {
   "cell_type": "code",
   "execution_count": 34,
   "metadata": {},
   "outputs": [],
   "source": [
    "s0 = [10,0.0,0.5]"
   ]
  },
  {
   "cell_type": "code",
   "execution_count": 35,
   "metadata": {},
   "outputs": [],
   "source": [
    "s = odeint(F_od, s0, t)"
   ]
  },
  {
   "cell_type": "code",
   "execution_count": 36,
   "metadata": {},
   "outputs": [
    {
     "data": {
      "text/plain": [
       "<function matplotlib.pyplot.show(close=None, block=None)>"
      ]
     },
     "execution_count": 36,
     "metadata": {},
     "output_type": "execute_result"
    },
    {
     "data": {
      "image/png": "[encoded data removed]",
      "text/plain": [
       "<Figure size 640x480 with 1 Axes>"
      ]
     },
     "metadata": {},
     "output_type": "display_data"
    }
   ],
   "source": [
    "plt.plot(t, s[:,0], label = \"+\")\n",
    "plt.plot(t, s[:,1], label = \"-\")\n",
    "plt.show"
   ]
  },
  {
   "cell_type": "code",
   "execution_count": 27,
   "metadata": {},
   "outputs": [],
   "source": [
    "def F_G(s, t):\n",
    "    g = 10\n",
    "    g_0 = 10**(-2)\n",
    "    g_x = 10\n",
    "    g_y = 10\n",
    "    ro_x = 10**(-3)\n",
    "    ro_y = 10**(-3)\n",
    "    j_sw = 0.5\n",
    "    j = j_sw\n",
    "    b_x =10 ** (-8)\n",
    "    b_y = 10 ** (-8)\n",
    "    \n",
    "    dpxdt = s[0]/ro_x * (g_x * s[2] - 1) + b_x * (1 + s[2])\n",
    "    dpydt = s[1]/ro_y * (g_y * s[2] - 1) + b_y * (1 + s[2])\n",
    "    dndt = j - s[2] - s[2]*(s[0] + s[1])\n",
    "\n",
    "    return [dpxdt, dpydt, dndt]"
   ]
  },
  {
   "cell_type": "code",
   "execution_count": null,
   "metadata": {},
   "outputs": [],
   "source": []
  }
 ],
 "metadata": {
  "kernelspec": {
   "display_name": "Python 3",
   "language": "python",
   "name": "python3"
  },
  "language_info": {
   "codemirror_mode": {
    "name": "ipython",
    "version": 3
   },
   "file_extension": ".py",
   "mimetype": "text/x-python",
   "name": "python",
   "nbconvert_exporter": "python",
   "pygments_lexer": "ipython3",
   "version": "3.11.0"
  }
 },
 "nbformat": 4,
 "nbformat_minor": 2
}
