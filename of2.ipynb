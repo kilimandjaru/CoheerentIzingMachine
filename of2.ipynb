{
 "cells": [
  {
   "cell_type": "code",
   "execution_count": 5,
   "metadata": {},
   "outputs": [],
   "source": [
    "import numpy as np\n",
    "import matplotlib.pylab as plt\n",
    "import sympy as sp\n",
    "from scipy.integrate import odeint, complex_ode\n",
    "from tqdm import tqdm\n",
    "import cmath"
   ]
  },
  {
   "cell_type": "code",
   "execution_count": 10,
   "metadata": {},
   "outputs": [],
   "source": [
    "k = 300\n",
    "k_inj = k\n",
    "a = 3\n",
    "mu = 4\n",
    "gamma_p = 192.1\n",
    "gamma_a = 1\n",
    "gamma_s = 1000\n",
    "gamma_e = 1\n",
    "        \n",
    "def F(s, t):\n",
    "        rE_x = s[0]\n",
    "        cE_x = s[1]\n",
    "        rE_y = s[2]\n",
    "        cE_y = s[3]\n",
    "        rD = s[4]\n",
    "        cD = s[5]\n",
    "        rn = s[6]\n",
    "        cn = s[7]\n",
    "        delta_w = gamma_p / 3.14\n",
    "\n",
    "        dERxdt = k*(rD*rE_x - cE_x * cD - rn*cE_y - cn*rE_y - rE_x) + a*k*(rE_x*cD - cE_x*rD - rn*rE_y+cE_y*cn + cE_x) - (gamma_p + delta_w) * rE_x - gamma_a*cE_x\n",
    "        dECxdt = k*(rE_x*cD + cE_x*rD +rn*rE_y - cE_y*cn - cE_x) + a*k*(rD*rE_x - cD*cE_x - rn*cE_y -cn*rE_y - rE_x) - (gamma_p + delta_w)*cE_x - gamma_a*(rE_x )\n",
    "        \n",
    "        dERydt = k*(rD*rE_y - cE_y * cD +rn*cE_x + cn*rE_x - rE_y) + a*k*(-rE_y*cD - cE_y*rD + rn*rE_x+cE_x*cn + cE_y) - (gamma_p - delta_w) * rE_y + gamma_a*cE_y\n",
    "        dECydt = k*(rE_y*cD + cE_y*rD - rn*rE_x + cE_x*cn - cE_y) + a*k*(rE_y*rD - cD*cE_y + rn*cE_y - rE_y) - (gamma_p - delta_w)*cE_y - gamma_a*(rE_y)\n",
    "\n",
    "        dDRdt = - gamma_e * (rD*(1 +(rE_x)**2 + (cE_x)**2) + (rE_y)**2 + (cE_y**2)) + gamma_e * mu - gamma_e * (rn*cE_y*rE_x + rn*cE_x*rE_y - rn*cE_y*rE_x - cn*rE_y*rE_x - cn*cE_x*cE_y +cn*rE_y*rE_y + cn*cE_y*cE_x + cn*cE_x*rE_y)\n",
    "        dDCdt = - gamma_e * (cD*(1 +(rE_x)**2 + (cE_x)**2)) - gamma_e * (rn*rE_y*rE_x + rn * cE_x * cE_y - rn* rE_x *rE_y - rn * cE_y * cE_x - cn*cE_y*rE_y + cn * cE_x*rE_y - cn*cE_y*rE_x)\n",
    "        \n",
    "        dnRdt = gamma_e * ( - rn*cE_y*rE_x + rn*cE_x*rE_y + rn*cE_x*rE_y - rn*cE_y*rE_x - cn*rE_y*rE_x - cn*cE_x*cE_y + cn*rE_x*rE_y +cn*cE_y*cE_x + cn*cE_x*rE_y) - gamma_s*(rn) - gamma_e*(rn * ((rE_x)**2 +(cE_x)**2 + (rE_y)**2 +(cE_y)**2))\n",
    "        dnCdt = gamma_e * (rn*rE_y*rE_x + rn*cE_x*cE_y - rn*rE_x*rE_y - rn*cE_y*cE_x - cn*cE_y*rE_x + cn*cE_x * rE_y) - gamma_s *cn - gamma_e*(cn*((rE_x)**2 +(cE_x)**2 + (rE_y)**2 +(cE_y)**2))\n",
    "        \n",
    "        return [dERxdt, dECxdt, dERydt, dECydt, dDRdt, dDCdt, dnRdt, dnCdt]"
   ]
  },
  {
   "cell_type": "code",
   "execution_count": 11,
   "metadata": {},
   "outputs": [],
   "source": [
    "def solve_ode(mu, E_inj, st0):\n",
    "    t = np.linspace(0.0, 105.0, 1000000)\n",
    "    st = odeint(F, st0, t)\n",
    "    return st[0], st[1], st[2], st[3], st[4], st[5], st[6], st[7]"
   ]
  },
  {
   "cell_type": "code",
   "execution_count": 12,
   "metadata": {},
   "outputs": [
    {
     "data": {
      "text/plain": [
       "(array([0., 0., 0., 0., 0., 0., 0., 0.]),\n",
       " array([0.        , 0.        , 0.        , 0.        , 0.00041998,\n",
       "        0.        , 0.        , 0.        ]),\n",
       " array([0.        , 0.        , 0.        , 0.        , 0.00083991,\n",
       "        0.        , 0.        , 0.        ]),\n",
       " array([0.       , 0.       , 0.       , 0.       , 0.0012598, 0.       ,\n",
       "        0.       , 0.       ]),\n",
       " array([0.        , 0.        , 0.        , 0.        , 0.00167965,\n",
       "        0.        , 0.        , 0.        ]),\n",
       " array([0.        , 0.        , 0.        , 0.        , 0.00209945,\n",
       "        0.        , 0.        , 0.        ]),\n",
       " array([0.        , 0.        , 0.        , 0.        , 0.00251921,\n",
       "        0.        , 0.        , 0.        ]),\n",
       " array([0.        , 0.        , 0.        , 0.        , 0.00293892,\n",
       "        0.        , 0.        , 0.        ]))"
      ]
     },
     "execution_count": 12,
     "metadata": {},
     "output_type": "execute_result"
    }
   ],
   "source": [
    "solve_ode(3, 0, [0, 0 ,0 ,0 ,0 ,0 ,0, 0])"
   ]
  },
  {
   "cell_type": "code",
   "execution_count": 5,
   "metadata": {},
   "outputs": [
    {
     "data": {
      "text/plain": [
       "13"
      ]
     },
     "execution_count": 5,
     "metadata": {},
     "output_type": "execute_result"
    }
   ],
   "source": [
    "len(set(list(range(-5,5))+list(range(-8,5))))"
   ]
  },
  {
   "cell_type": "code",
   "execution_count": null,
   "metadata": {},
   "outputs": [],
   "source": []
  }
 ],
 "metadata": {
  "kernelspec": {
   "display_name": "Python 3",
   "language": "python",
   "name": "python3"
  },
  "language_info": {
   "codemirror_mode": {
    "name": "ipython",
    "version": 3
   },
   "file_extension": ".py",
   "mimetype": "text/x-python",
   "name": "python",
   "nbconvert_exporter": "python",
   "pygments_lexer": "ipython3",
   "version": "3.11.9"
  }
 },
 "nbformat": 4,
 "nbformat_minor": 2
}
